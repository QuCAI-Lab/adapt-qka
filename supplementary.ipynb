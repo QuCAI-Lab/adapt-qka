{
 "cells": [
  {
   "cell_type": "markdown",
   "metadata": {
    "id": "hL3WW-VYdp06"
   },
   "source": [
    "<!-- Badges: -->\n",
    "\n",
    "<!-- Title: -->\n",
    "<div align=\"center\">\n",
    "  <h1><b> <a target=\"_blank\" href=\"https://github.com/XanaduAI/QHack2023\"> QHack2023 Open Hackathon</a></b></h1>\n",
    "  <h1><b>Supplementary Material </b></h1>\n",
    "  <h2> Adaptive Quantum Kernel Alignment for data Classification </h2>\n",
    "</div>\n",
    "<br>\n",
    "\n",
    "\n",
    "<!-- Team: -->\n",
    "<div align=\"center\">\n",
    "  <b>\n",
    "    Authors: <a target=\"_blank\" href=\"https://github.com/camponogaraviera\">¹²Lucas Camponogara Viera</a>, \n",
    "    <a target=\"_blank\" href=\"https://github.com/wormyu\">²陳宏宇</a>.</b>\n",
    "<!-- Institution: -->\n",
    "<br>\n",
    "<b><a target=\"_blank\" href=\"https://github.com/QuCAI-Lab\">¹QuCAI-Lab, Taipei, Taiwan</a></b>.\n",
    "<br>\n",
    "<b><a target=\"_blank\" href=\"https://quantum.ntu.edu.tw/?page_id=275\">²IBM Quantum Hub at NTU, Taipei, Taiwan</a></b>.<br>\n",
    "</div>"
   ]
  },
  {
   "cell_type": "markdown",
   "metadata": {
    "id": "pZF26y30d1qT"
   },
   "source": [
    "<div align='center'>\n",
    "<table class=\"tfo-notebook-buttons\" align=\"head\">\n",
    "  <td>\n",
    "    <a target=\"_blank\" href=\"https://github.com/QuCAI-Lab/qhack2023-openhack\"><img src=\"https://www.tensorflow.org/images/GitHub-Mark-32px.png\" /></a>\n",
    "  </td>\n",
    "</table>\n",
    "</div>"
   ]
  },
  {
   "cell_type": "code",
   "execution_count": null,
   "metadata": {
    "colab": {
     "base_uri": "https://localhost:8080/",
     "height": 34
    },
    "executionInfo": {
     "elapsed": 342,
     "status": "ok",
     "timestamp": 1677052710163,
     "user": {
      "displayName": "Lucas Camponogara Viera",
      "userId": "13421704742725721901"
     },
     "user_tz": -480
    },
    "id": "srP0leqJxHUZ",
    "outputId": "b975a539-dc15-473d-fbfc-96ee1a381e7c"
   },
   "outputs": [
    {
     "data": {
      "application/javascript": [
       "IPython.notebook.set_autosave_interval(30000)"
      ]
     },
     "metadata": {},
     "output_type": "display_data"
    },
    {
     "name": "stdout",
     "output_type": "stream",
     "text": [
      "Autosaving every 30 seconds\n"
     ]
    }
   ],
   "source": [
    "%autosave 30"
   ]
  },
  {
   "cell_type": "markdown",
   "metadata": {
    "id": "zuvwqgfmffEm"
   },
   "source": [
    "---\n",
    "There is an assortment of extensive resources out there, and this supplementary material has no aspiration to be a surrogate. The recommended textbook for deep learning is Ref. \\[[1](#1)], for quantum computing is Ref. \\[[2](#2)], and for quantum machine learning is Ref. \\[[3](#3)].\n",
    "\n",
    "---"
   ]
  },
  {
   "cell_type": "markdown",
   "metadata": {
    "id": "ZWPkDjddGxGH"
   },
   "source": [
    "# Table of Contents\n",
    "\n",
    "- **[Short Notes on Quantum Machine Learning](#notes)**\n",
    "  - **[Quantum Embedding (state preparation or data encoding)](#encoding)**\n",
    "    - Quantum Feature Maps\n",
    "    - Amplitude Embedding\n",
    "  - **[Quantum algorithms for data classification](#qa)**\n",
    "    - The Variational Quantum Classifier (VQC)\n",
    "    - Proof that a VQC is a linear model\n",
    "    - The Quantum Kernel Estimator (QKE)\n",
    "    - The Quantum Kernel Alignment (QKA)\n",
    "  - **[Cherry picking a Quantum Kernel](#kernel)**\n",
    "- **[Appendix](#Appendix)**\n",
    "  - Measurement Postulate in Quantum Mechanics\n",
    "    - Probability\n",
    "    - Expectation value\n",
    "    - Pauli decomposition\n",
    "- **[References](#References)**\n"
   ]
  },
  {
   "cell_type": "markdown",
   "metadata": {
    "id": "mMma7Bd1g9Bj"
   },
   "source": [
    "# &nbsp; <a href=\"https://creativecommons.org/licenses/by/4.0/\"><img valign=\"middle\" src=\"https://img.icons8.com/copyright\" width=\"50\"></a> License"
   ]
  },
  {
   "cell_type": "code",
   "execution_count": null,
   "metadata": {
    "id": "oYBqUo7Og_Ao"
   },
   "outputs": [],
   "source": [
    "#@title Copyright 2023.\n",
    "# This code is part of qhack2023-openhack.\n",
    "#\n",
    "# (C) Copyright QuCAI-Lab, 2023.\n",
    "#\n",
    "# This code is licensed under the Creative Commons Zero v1.0 Universal License. \n",
    "# You may obtain a copy of the LICENSE.md file in the root directory\n",
    "# of this source tree or at https://creativecommons.org/publicdomain/zero/1.0/.\n",
    "#\n",
    "# Any modifications or derivative works of this code must retain this\n",
    "# copyright notice, and modified files need to carry a notice indicating\n",
    "# that they have been altered from the originals."
   ]
  },
  {
   "cell_type": "markdown",
   "metadata": {
    "id": "_GDi1bB97XWW"
   },
   "source": [
    "# &nbsp; <a href=\"#\"><img valign=\"middle\" height=\"45px\" src=\"https://img.icons8.com/jupyter\" width=\"45\" hspace=\"0px\" vspace=\"0px\"></a> Setup"
   ]
  },
  {
   "cell_type": "markdown",
   "metadata": {
    "id": "icHt4pRi4kZX"
   },
   "source": [
    "🪨 LaTeX config.\n",
    "\n",
    "[//]: # (Math declarations:)\n",
    "\n",
    "$\\DeclareMathOperator{\\Tr}{Tr}$\n",
    "$\\DeclareMathOperator{\\HS}{HS}$\n",
    "$\\DeclareMathOperator{\\T}{T}$"
   ]
  },
  {
   "cell_type": "code",
   "execution_count": null,
   "metadata": {
    "colab": {
     "base_uri": "https://localhost:8080/",
     "height": 17
    },
    "executionInfo": {
     "elapsed": 4,
     "status": "ok",
     "timestamp": 1677052719293,
     "user": {
      "displayName": "Lucas Camponogara Viera",
      "userId": "13421704742725721901"
     },
     "user_tz": -480
    },
    "id": "q90CdXRouB-s",
    "outputId": "674ea80c-1177-49b8-9bd1-53f1fd98297b"
   },
   "outputs": [
    {
     "data": {
      "application/javascript": [
       "// JavaScript extension for automatic equation numbering.\n"
      ],
      "text/plain": [
       "<IPython.core.display.Javascript object>"
      ]
     },
     "metadata": {},
     "output_type": "display_data"
    }
   ],
   "source": [
    "%%javascript MathJax.Hub.Config({ TeX: { equationNumbers: { autoNumber:\"AMS\" } } });\n",
    "// JavaScript extension for automatic equation numbering."
   ]
  },
  {
   "cell_type": "markdown",
   "metadata": {
    "id": "EJNXZEmPfTqJ"
   },
   "source": [
    "# &nbsp; <a href=\"#\"><img valign=\"middle\" height=\"45px\" src=\"https://img.icons8.com/physics\" width=\"45\" hspace=\"0px\" vspace=\"0px\"></a> Short Notes on Quantum Machine Learning<a name=\"notes\" />"
   ]
  },
  {
   "cell_type": "markdown",
   "metadata": {
    "id": "Iz9PijN2AYCs"
   },
   "source": [
    "## Quantum Embedding (state preparation or data encoding)<a name=\"encoding\" />\n"
   ]
  },
  {
   "cell_type": "markdown",
   "metadata": {
    "id": "l7Nvwh_0nMX1"
   },
   "source": [
    "Classical data encoding is a bottleneck in `quantum machine learning` when a potentially large classical input data must be encoded into the quantum circuit. To feed the classical data into the quantum circuit, a data encoding technique known as quantum state preparation or [quantum embedding](https://pennylane.ai/qml/glossary/quantum_embedding.html) is applied. This process uses the `quantum feature map` to map/represent the input data into quantum states. \n",
    "\n",
    "Examples of quantum embeddings are: basis embedding, amplitude embedding and angle embedding."
   ]
  },
  {
   "cell_type": "markdown",
   "metadata": {
    "id": "HaDwHHXMdra-"
   },
   "source": [
    "### Quantum Feature Maps\n"
   ]
  },
  {
   "cell_type": "markdown",
   "metadata": {
    "id": "lNxnQgBfeaNk"
   },
   "source": [
    "A [quantum feature map](https://pennylane.ai/qml/glossary/quantum_feature_map.html) (QFM) \\[[5](#5)]\\[[6](#6)] is used to encode the classical data into the quantum circuit, i.e, it maps the classical input data into a potentially higher dimensional feature space where the data becomes easier to classify. It transforms a classical data point $x \\in \\mathcal{X}$ from a dataset $\\mathcal{X}$ into a $n$-qubit quantum state (a.k.a feature vector) $|\\Phi(x)\\rangle \\in \\mathcal{H}$ in the Hilbert space $\\mathcal{H}$."
   ]
  },
  {
   "cell_type": "markdown",
   "metadata": {
    "id": "8f5RQUnLdsfC"
   },
   "source": [
    "Formally, a general QFM is a [map](https://en.wikipedia.org/wiki/Map_(mathematics)) of the form\n",
    "\n",
    "$$\\mathcal{\\Phi}: x \\in \\mathcal{X} \\rightarrow |\\Phi(x)\\rangle \\in \\mathcal{H}.$$ \n",
    "\n",
    "Within the density operator formalism, the above reads\n",
    "\n",
    "$$\\mathcal{\\Phi}: x \\in \\mathcal{X} \\rightarrow |\\Phi(x)\\rangle\\langle\\Phi(x)| \\in \\mathcal{H},$$ \n",
    "\n",
    "where the right hand side of the equation denotes the outer product.\n",
    "\n",
    "Consider a set of classical input data, i.e, a dataset with $M$ data points (samples) denoted by\n",
    "\n",
    "$$\\mathcal{X} =\\{\\vec{x}_i=(x_1, \\cdots, x_N) \\in \\mathbb{C}^{N}\\}|_{i=1}^M,$$\n",
    "\n",
    "where each data point (sample) is a $N$-dimensional vector $\\vec{x}_i \\in \\mathbb{C}^{N}$. The quantum feature mapping (transformation) from the classical vector to a unit vector in the Hilbert space reads\n",
    "\n",
    "$$\\vec{x} \\mapsto |\\Phi(x)\\rangle.$$\n",
    "\n",
    "Within the density operator formalism (to avoid a global phase), the above reads:\n",
    "\n",
    "$$\\vec{x} \\mapsto |\\Phi(x)\\rangle \\langle \\Phi(x)|.$$\n",
    "\n",
    "The QFM is represented by a Unitary operator $U_{\\Phi}(x) \\in \\mathbb{C}^{2^n \\times 2^n}$ of $n$ qubits that maps a given data point (vector) $\\vec{x} \\in \\mathcal{X}$ sampled from the classical dataset $\\mathcal{X}$ to a feature space (vector space) $\\mathcal{H}$. In quantum mechanics, $\\mathcal{H}$ is the Hilbert space of the complex numbers associated with an inner product $\\langle \\cdot, \\cdot \\rangle$ and composed of quantum state vectors $|\\Phi(x)\\rangle$. In the quantum circuit formalism, the unitary operator $U_{\\Phi}(x) \\in \\mathbb{C}^{2^n \\times 2^n}$ is a `non-trainable` parameterized quantum circuit composed of one or many rotational quantum gates $R(x)$ whose parameters (angles) depend on the input data. "
   ]
  },
  {
   "cell_type": "markdown",
   "metadata": {
    "id": "0bnXRw9rUgCM"
   },
   "source": [
    "Summary:\n",
    "\n",
    "- $M$ denotes the number of data points (samples) in the classical dataset, i.e, the dataset population.\n",
    "\n",
    "- $N$ denotes the number of features of each sample, i.e, the dimension of the vector representing the sample.\n",
    "\n",
    "- $\\mathbb{C}^N$ denotes the N-dimensional [complex coordinate space](https://en.wikipedia.org/wiki/Complex_coordinate_space).\n",
    "\n",
    "- $\\mathcal{H}^{2^n}$ denotes the feature space (a vector space) of dimension $\\dim(\\mathcal{H})=2^n$. It is the Hilbert space of quantum mechanics.\n",
    "\n",
    "- $\\mathcal{X} = \\{\\vec{x}_i \\in \\mathbb{C}^{N}\\}|_{i=1}^M$ denotes a classical dataset with $M$ samples.\n",
    "\n",
    "- $\\vec{x}_i \\in \\mathbb{C}^{N}$ denotes the $i$-th data point from the classical data set $\\mathcal{X}$. It is a $N$-dimensional vector from the set of complex numbers $\\mathbb{C}$. \n",
    "\n",
    "- $\\Phi = U_{\\Phi}(x) \\in \\mathbb{C}^{2^n \\times 2^n}$ denotes the feature map, a $2^n\\times2^n$ unitary operator, a parameterized quantum circuit of $n$ qubits composed of one or many rotational quantum gates $R(x)$ whose angles (in radian) depend on the input data $\\vec{x}$.\n",
    "\n",
    "- $|0^{\\otimes n}\\rangle \\doteq |0\\rangle \\otimes |0\\rangle \\otimes \\cdots \\otimes |0\\rangle \\in \\mathcal{H}^{2^n}$ denotes the composite initial state of the circuit. It is the ground (vacuum) state of the quantum computer, i.e, a quantum state with $n$ qubits where each qubit is initialized in the state $|0\\rangle$.\n",
    "\n",
    "- $|\\Phi(x)\\rangle \\in \\mathcal{H}^{2^n}$ denotes the feature vector (fiducial state) in the Hilbert space. It is a $n$-qubit quantum state with $2^n$ probability amplitudes, i.e, a quantum state formed by $n$ qubits. An optimal feature map creates an optimal fiducial state that makes the dataset linearly separable in the Hilbert space."
   ]
  },
  {
   "cell_type": "markdown",
   "metadata": {
    "id": "QNmJTfvzUpPu"
   },
   "source": [
    "### Amplitude Embedding \n"
   ]
  },
  {
   "cell_type": "markdown",
   "metadata": {
    "id": "PPqz_VjrDtRZ"
   },
   "source": [
    "\n",
    "`Amplitude embedding` a.k.a `amplitude encoding` \\[[5](#5)] encodes the $N=2^n$ features of a normalised classical vector $\\vec{x} \\in \\mathbb{C}^{2^n}$ into the probability amplitudes of a quantum state of $n$ qubits. In this case, the mapping or action of the feature map $\\mathcal {\\Phi} = U_{\\Phi}(x) \\in \\mathbb{C}^{2^n \\times 2^n}$ applied to the ground state (a.k.a vacuum state) $|0^{\\otimes n}\\rangle \\in \\mathcal{H}^{2^n}$ of the quantum circuit creates a $n$-qubit quantum state $|\\Phi(x)\\rangle \\in \\mathcal{H}^{2^n}$ according to: \n",
    "\n",
    "$$\\vec{x} \\mapsto |\\Phi(x)\\rangle = U_{\\Phi}(x) |0^{\\otimes n}\\rangle = \\frac{1}{||\\vec{x}||}\\sum_{j=1}^{N=2^n}x_j|j\\rangle=\\frac{1}{||\\vec{x}||}\\sum_{j=0}^{2^n-1}x_j|j\\rangle,$$\n",
    "\n",
    "where $||\\vec{x}||=1$ for a normalized classical vector, and $x_j$ denotes the $j$-th feature out of $N=2^n$ features from $\\vec{x} \\in \\mathcal{X}$.\n",
    "\n",
    "In matrix form, amplitude embedding reads:\n",
    "\n",
    "\\begin{align}\n",
    "\\vec{x} =\n",
    "  \\begin{pmatrix}\n",
    "    x_0 \\\\ \\vdots \\\\ x_{2^{n-1}}\n",
    "  \\end{pmatrix}\n",
    "  \\mapsto |\\Phi(x)\\rangle = x_0 |0\\rangle+x_1|1\\rangle +\\cdots + x_{2^{n-1}} |{2^{n-1}}\\rangle.\n",
    "\\end{align}\n",
    "\n",
    "- Example: a data point represented by a vector $\\vec{x} = (x_1, x_2, \\cdots, x_{8}) \\in \\mathbb{C}^{8}$ has $N=2^3=8$ features. Therefore, it requires $n=3$ qubits to be encoded:\n",
    "\n",
    "\\begin{align}\n",
    "\\vec{x} =\n",
    "  \\begin{pmatrix}\n",
    "    x_1 \\\\ \\vdots \\\\ x_{8}\n",
    "  \\end{pmatrix}\n",
    "  \\mapsto |\\Phi(x)\\rangle = x_1 |0\\rangle+x_2|1\\rangle +\\cdots + x_{8} |7\\rangle = x_1 |000\\rangle+x_2|001\\rangle +\\cdots + x_{8} |111\\rangle.\n",
    "\\end{align}\n",
    "\n",
    "In this embedding, the required number of qubits in the quantum circuit is $n \\geq log_2 (NM)$. If $NM < 2^n$, the vector $\\vec{x}$ must be padded."
   ]
  },
  {
   "cell_type": "markdown",
   "metadata": {
    "id": "rxe7rI8mTu_x"
   },
   "source": [
    "Summary:\n",
    "\n",
    "- $M$ denotes the number of data points (samples) in the classical dataset, i.e, the dataset population.\n",
    "\n",
    "- $N=2^n$ denotes the number of features of each sample, i.e, the dimension of the vector representing the sample.\n",
    "\n",
    "- $n \\geq log_2 (NM)$ denotes the required number of qubits in the quantum circuit.\n",
    "\n",
    "- $\\mathbb{C}^{2^n}$ denotes the $2^n$-dimensional [complex coordinate space](https://en.wikipedia.org/wiki/Complex_coordinate_space).\n",
    "\n",
    "- $\\mathcal{H}^{2^n}$ denotes the feature space (a vector space) of dimension $\\dim(\\mathcal{H})=2^n$. It is the Hilbert space of quantum mechanics.\n",
    "\n",
    "- $\\mathcal{X} = \\{\\vec{x}_i \\in \\mathbb{C}^{N=2^n}\\}|_{i=1}^M$ denotes a classical dataset with $M$ samples.\n",
    "\n",
    "- $\\vec{x}_i \\in \\mathbb{C}^{N=2^n}$ denotes the $i$-th data point from the classical data set $\\mathcal{X}$. It is a $N$-dimensional vector from the set of complex numbers $\\mathbb{C}$. \n",
    "\n",
    "- $|j\\rangle$ denotes the $j$-th computational basis state, i.e, a orthonormal basis state corresponding to the probability amplitude $x_j$.\n",
    "\n",
    "- $||x||_2 = \\sqrt{x \\cdot x} = \\sqrt{\\sum x_i x_j \\delta_{ij}} =\\sqrt{\\sum x_j x_j}= \\sqrt{x_1^2 + \\cdots + x_N^2}$ denotes the L2-norm a.k.a Euclidean norm of a $N$-dimensional vector $\\vec{x}$.\n",
    "\n",
    "- $\\mathcal {\\Phi} = U_{\\Phi}(x) \\in \\mathbb{C}^{2^n \\times 2^n}$ denotes the feature map, a $2^n\\times2^n$ unitary operator, a parameterized quantum circuit of $n$ qubits composed of one or many rotational quantum gates $R(x)$ whose angles (in radian) depend on the input data $\\vec{x}$.\n",
    "\n",
    "- $|0^{\\otimes n}\\rangle \\doteq |0\\rangle \\otimes |0\\rangle \\otimes \\cdots \\otimes |0\\rangle \\in \\mathcal{H}^{2^n}$ denotes the composite initial state of the circuit. It is the ground (vacuum) state of the quantum computer, i.e, a quantum state with $n$ qubits where each qubit is initialized in the state $|0\\rangle$.\n",
    "\n",
    "- $|\\Phi(x)\\rangle \\in \\mathcal{H}^{2^n}$ denotes the feature vector (fiducial state) in the Hilbert space. It is a $n$-qubit quantum state with $2^n$ probability amplitudes, i.e, a quantum state formed by $n$ qubits. An optimal feature map creates an optimal fiducial state that makes the dataset linearly separable in the Hilbert space."
   ]
  },
  {
   "cell_type": "markdown",
   "metadata": {
    "id": "UBGSaipbUAQK"
   },
   "source": [
    "## Quantum algorithms for data classification<a name=\"qa\" />\n",
    "\n",
    "In this section, we present a short review on different quantum algorithms for classification of classical data.\n",
    "\n",
    "- The Variational Quantum Classifier (VQC).\n",
    "- The Quantum Kernel Estimator (QKE).\n",
    "- The Quantum Kernel Alignment (QKA).\n"
   ]
  },
  {
   "cell_type": "markdown",
   "metadata": {
    "id": "wv1Uq7SaS3aV"
   },
   "source": [
    "### The Variational Quantum Classifier (VQC)"
   ]
  },
  {
   "cell_type": "markdown",
   "metadata": {
    "id": "-f568ZSlExbV"
   },
   "source": [
    "The Variational Quantum Classifier (VQC) is a linear model in quantum feature space. It is either a fixed (non-adaptive) or adaptive parameterized unitary operator $W({\\theta})$ used to draw a linear decision boundary (a.k.a hyperplane) that separates the quantum data (vectors) in the Hilbert space. \n",
    "\n",
    "A VQC is mainly composed of (adapted from \\[[7](#7)]):\n",
    "\n",
    "1. A `non-trainable` quantum circuit, denoted by the unitary operator $V_{\\Phi}(x)$, representing the `quantum feature map` $\\Phi(x)$ used for state preparation (data encoding).\n",
    "2. A `trainable` parameterized variational quantum circuit, denoted by the unitary operator $W({\\theta})$, that acts as a `parameterized change of basis circuit`. A change of basis is required to compute the expected value of an observable that is not diagonal in the z-basis (**see Appendix**).\n",
    "3. A decision rule to compute the predicted label of the classical input data.\n",
    "4. An optimization algorithm to update the parameters $\\theta$."
   ]
  },
  {
   "cell_type": "markdown",
   "metadata": {
    "id": "AzdQhUBMVExa"
   },
   "source": [
    "Consider the following circuit:\n",
    "\n",
    "![VQC.PNG](data:image/png;base64,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)\n",
    "\n",
    "© Image Credits: [[7]](#). "
   ]
  },
  {
   "cell_type": "markdown",
   "metadata": {
    "id": "xWIue0aPSHRF"
   },
   "source": [
    "To classify a new input data point $\\vec{x}$, one evaluates the expected value of the Pauli $\\hat{Z}$ observable according to the measurement postulate in quantum mechanics (**see Appendix**) as follows:\n",
    "\n",
    "\\begin{align}\n",
    "f_{\\theta}(x) &\\equiv \\overbrace{\\langle \\Phi(x)| \\hat{Z} |\\Phi(x)\\rangle}^\\text{expected value} \\\\\n",
    "&=\\langle \\Phi(x)|W^{\\dagger}(\\theta)\\hat{Z}W(\\theta)|\\Phi(x)\\rangle\\\\\n",
    "&=\\underbrace{\\langle0^{\\otimes n}|V_{\\Phi}^{\\dagger}(x)}_\\text{feature map}\\underbrace{W^{\\dagger}(\\theta)\\hat{Z}W(\\theta)}_\\text{change of basis}\\underbrace{V_{\\Phi}(x)|0^{\\otimes n}\\rangle}_\\text{feature map} \\in [-1,1].\n",
    "\\end{align}\n",
    "\n",
    "Note that $$|\\Phi(x)\\rangle=V_{\\Phi}(x)|0^{\\otimes n}\\rangle,$$ \n",
    "\n",
    "represents the fiducial state prepared according to a data encoding procedure, i.e, is the feature vector obtained by acting the feature map circuit $V_{\\Phi}(x)$ on the initial state $|0^{\\otimes n}\\rangle$ composed of $n$ qubits.\n",
    "\n",
    "The predicted label corresponding to the data point $\\vec{x}$ is then evaluated according to the following decision rule:\n",
    "\n",
    "\\begin{align}\n",
    "\\text{label}(x) \\in \\{+1, -1\\} = \\text{sign}(f_{\\theta}(x)+b) = \\begin{cases}\n",
    "+1, \\text{ if } f_{\\theta}(x) \\geq b. \\\\\n",
    "-1, \\text{ if } f_{\\theta}(x) < b.\n",
    "\\end{cases}\n",
    "\\end{align}\n",
    "\n",
    "Where $b \\in [-1,1]$ is a user-defined threshold.\n",
    "\n",
    "The class labels $+1$ and $-1$ of a binary classification are elements of a right coset and a left coset, respectively."
   ]
  },
  {
   "cell_type": "markdown",
   "metadata": {
    "id": "kyF09cgQ6v1i"
   },
   "source": [
    "### Proof that a VQC is a linear model"
   ]
  },
  {
   "cell_type": "markdown",
   "metadata": {
    "id": "jhpF0cK2fkcZ"
   },
   "source": [
    "Here, we provide a didactic proof that VQCs are linear models. To this end, let us define \n",
    "\n",
    "$$H(\\theta) \\stackrel{\\text{def}}{\\equiv} W^{\\dagger}(\\theta)\\hat{Z}W(\\theta),$$ \n",
    "\n",
    "as to avoid notation overload. Moving on, recall that the trace of a matrix $\\hat{O}$ is map $\\Tr:\\mathcal{L}(\\mathcal{H}) \\rightarrow \\mathbb{C}$ defined as the sum of the matrix diagonals\n",
    "\n",
    "$$\\Tr(\\hat{O})\\doteq \\sum_{j=1}^d \\langle o_j|\\hat{O}| o_j \\rangle = \\sum_{j=1}^d \\hat{O}_{jj},$$\n",
    "\n",
    "with the following non-exhaustive properties for $\\lambda \\in \\mathbb{C}, A \\in \\mathbb{C}^{m,n}$, $B \\in \\mathbb{C}^{n,m}$, and $|a\\rangle, |b\\rangle \\in \\mathbb{C}^d$:\n",
    "\n",
    "1. $\\Tr(\\lambda)=\\lambda$, for some scalar quantity $\\lambda$.\n",
    "2. $\\Tr(A\\lambda)=\\lambda\\Tr(A)$.\n",
    "3. $\\Tr(|a\\rangle \\langle b|) = \\langle b|a\\rangle$, the trace of the outer product is the inner product.\n",
    "3. $\\Tr(AB)=\\Tr(BA)$, invariant under cyclic permutations.\n",
    "4. $\\Tr(\\sum_j A_j)=\\sum_j\\Tr(A_j)$, the trace is a linear operation.\n",
    "\n",
    "\n",
    "With that, one can write\n",
    "\n",
    "\\begin{align}\n",
    "\\langle \\Phi(x)|H(\\theta)|\\Phi(x)\\rangle &\\stackrel{\\text{1.}}{=}\n",
    "\\Tr\\Big(\\langle \\Phi(x)|\\color{orange}{H(\\theta)|\\Phi(x)\\rangle}\\Big) \\\\\n",
    "&\\stackrel{\\text{3.}}{=} \\Tr\\Big(\\color{orange}{H(\\theta)|\\Phi(x)\\rangle}\\langle \\Phi(x)|\\Big)\\\\\n",
    "&\\stackrel{\\text{def}}{\\equiv} \\Tr (H(\\theta)\\phi(x)),\n",
    "\\end{align}\n",
    "\n",
    "where we have defined $\\phi(x) \\stackrel{\\text{def}}{\\equiv} |\\Phi(x)\\rangle\\langle \\Phi(x)|.$ `Note that we write a number over the equal sign to identify which trace property was used`.\n",
    "\n",
    "The next step is to decompose $H(\\theta)$ and and $\\phi(x)$ in the basis of the Pauli matrices (**see Appendix**):\n",
    "\n",
    "\\begin{align}\n",
    "H(\\theta)&=\\frac{1}{2^n}\\sum_{i \\in 4^n} \\langle H(\\theta), P_{i}\\rangle_{\\HS} P_{i} = \\frac{1}{2^n}\\sum_{i \\in 4^n} \\Tr\\Big(H(\\theta)P_{i}\\Big)P_{i} \\equiv \\frac{1}{2^n}\\sum_{i \\in 4^n} h_{i}(\\theta)P_{i}. \\\\\n",
    "\\phi(x)&=\\frac{1}{2^n}\\sum_{i \\in 4^n} \\langle \\phi(x), P_{i}\\rangle_{\\HS} P_{i} = \\frac{1}{2^n}\\sum_{i \\in 4^n} \\Tr\\Big(\\phi(x)P_{i}\\Big)P_{i} \\equiv \\frac{1}{2^n}\\sum_{i \\in 4^n} \\phi_{i}(x)P_{i}.\n",
    "\\end{align}\n",
    "\n",
    "where $\\langle A, B \\rangle_{\\HS} = \\Tr(AB)$ denotes the `Hilbert-Schmidt inner product`, and also\n",
    "\n",
    "\\begin{align}\n",
    "h_{i}(\\theta) &\\equiv \\Tr(H(\\theta)P_{i}), \\\\\n",
    "\\phi_{i}(x) &\\equiv \\Tr(\\phi(x)P_{i}).\n",
    "\\end{align}\n",
    "\n",
    "With that, and for a circuit with $n$ qubits, one has\n",
    "\n",
    "\\begin{align}\n",
    "f_{\\theta}(x) = \\Tr \\Big[H(\\theta)\\phi(x)\\Big] &= \\Tr \\Bigg[ \\Bigg(\\frac{1}{2^n}\\sum_{i \\in 4^n} h_{i}(\\theta)P_{i}\\Bigg) \\Bigg(\\frac{1}{2^n}\\sum_{j \\in 4^n} \\phi_{j}(x)P_{j}\\Bigg) \\Bigg]\\\\\n",
    "&\\stackrel{\\text{2.}}{=}\\frac{1}{4^n}\\Tr \\Bigg[ \\Bigg(\\sum_{i \\in 4^n} h_{i}(\\theta)P_{i}\\Bigg) \\Bigg(\\sum_{j \\in 4^n} \\phi_{j}(x)P_{j}\\Bigg) \\Bigg]\\\\\n",
    "&=\\frac{1}{4^n}\\Tr\\Bigg[\\sum_{i, j \\in 4^n}h_{i}(\\theta)\\phi_{j}(x)P_{i}P_{j}\\Bigg]\\\\\n",
    "&\\stackrel{\\text{5.}}{=}\\frac{1}{4^n}\\sum_{i, j \\in 4^n}h_{i}(\\theta)\\phi_{j}(x)\\Tr(P_{i}P_{j})\\\\\n",
    "&= \\underbrace{\\frac{1}{2^n}\\sum_{i \\in 4^n}h_{i}(\\theta)\\phi_{i}(x)}_\\text{i=j (contraction)}.\n",
    "\\end{align}"
   ]
  },
  {
   "cell_type": "markdown",
   "metadata": {
    "id": "LCorGskT6YTQ"
   },
   "source": [
    "The complete operation reads, explicitly\n",
    "\n",
    "\\begin{align}\n",
    "f_{\\theta}(x) \n",
    "&= \\frac{1}{2^n}\\sum_{i \\in 4^n}\\Tr(W^{\\dagger}(\\theta)\\hat{Z}W(\\theta)P_{i})\\Tr(|\\Phi(x)\\rangle\\langle \\Phi(x)|P_{i}).\n",
    "\\end{align}\n",
    "\n",
    "Since $W(\\theta)$ is a low depth quantum circuit, it only parameterizes a subset of all possible observables/hyperplanes."
   ]
  },
  {
   "cell_type": "markdown",
   "metadata": {
    "id": "v1U-13w_6lQN"
   },
   "source": [
    "Let us break down this equation step by step. The second equality used the trace property no. 2 outlined above, and the exponent rule\n",
    "\n",
    "\\begin{align}\n",
    "a^nb^n&=(ab)^n,\n",
    "\\end{align}\n",
    "\n",
    "such that $2^n2^n=4^n$. Depending on taste, two other exponent rules can be used in sequence as well, such as \n",
    "\n",
    "\\begin{align}\n",
    "a^xa^y&=a^{x+y}\\implies 2^n2^n=2^{2n},\\\\\n",
    "a^{bn}&=(a^b)^n\\implies 2^{2n} = 4^n.\n",
    "\\end{align}\n",
    "\n",
    "The third equality only grouped the summations together. The fourth used the trace property no. 5. The last equality used the trace property for a product of Pauli matrices $P_i \\in \\mathcal{H}^{2^n}$ of dimension $\\dim(P_i) = 2^n \\times 2^n$ given by\n",
    "\n",
    "$$\n",
    "\\Tr(P_{i}P_{j}) =2^n \\delta_{jk}= \n",
    "\\begin{cases}\n",
    "2^n, &\\text{if } i = j. \\\\\n",
    "0, &\\text{if } i \\ne j,\n",
    "\\end{cases}\n",
    "$$\n",
    "\n",
    "whose [kronecker delta](https://en.wikipedia.org/wiki/Kronecker_delta) contributes to the contraction ($A_iB_j\\delta_{ij}=A_iB_i$). \n",
    "\n"
   ]
  },
  {
   "cell_type": "markdown",
   "metadata": {
    "id": "EOqT4IgzPdr9"
   },
   "source": [
    "Recall that all $2 \\times 2$ Pauli matrices satisfy the following $\\mathfrak{su}(2)$ Lie algebra:\n",
    "\n",
    "\\begin{align}\n",
    "\\Tr(\\sigma_j\\sigma_k)=\\Tr(\\delta_{jk} \\mathbb{I}_{2} +i\\epsilon_{ijk}\\sigma_l)&=\\Tr(\\delta_{jk} \\mathbb{I}_{2})+\\Tr(i\\epsilon_{ijk}\\sigma_{l}) =\\delta_{jk}\\Tr(\\mathbb{I}_{2})+i\\epsilon_{ijk}\\Tr(\\sigma_{l})=2\\delta_{jk}.\n",
    "\\\\\n",
    "\\{\\sigma_{\\mu},\\sigma_{\\nu}\\}&=\\sigma_{\\mu}\\sigma_{\\nu}+\\sigma_{\\nu}\\sigma_{\\mu}=2\\delta_{\\mu \\nu}\\mathbb{I}_2 \\\\\n",
    "&\\implies \\sigma_{\\nu}\\sigma_{\\mu}=2\\delta_{\\mu \\nu}\\mathbb{I}_2-\\sigma_{\\mu}\\sigma_{\\nu}\\\\\n",
    "&\\implies \\Tr(\\sigma_{\\nu}\\sigma_{\\mu})=\\Tr(2\\delta_{\\mu \\nu}\\mathbb{I}_2-\\sigma_{\\mu}\\sigma_{\\nu})=2\\delta_{\\mu \\nu}\\Tr(\\mathbb{I}_2)-\\Tr(\\sigma_{\\mu}\\sigma_{\\nu})=4\\delta_{\\mu \\nu}-\\Tr(\\sigma_{\\nu}\\sigma_{\\mu})\\\\\n",
    "&\\implies \\Tr(\\sigma_{\\nu}\\sigma_{\\mu})=2\\delta_{\\mu\\nu}.\n",
    "\\end{align}\n",
    "\n",
    "It follows that for a system of $n$ qubits, $\\Tr(\\mathbb{I}_d)=2^n$.\n",
    "\n",
    "Note: the generalization of the $\\mathfrak{su}(2)$ Lie algebra for Pauli matrices (matrices acting on 2-level systems a.k.a qubits) is the $\\mathfrak{su}(d)$ Lie algebra for generic $d$-level systems that consists of the [generalized Gell-Mann matrices](https://mathworld.wolfram.com/GeneralizedGell-MannMatrix.html) acting on qudits. "
   ]
  },
  {
   "cell_type": "markdown",
   "metadata": {
    "id": "AWqiyV8AAWJm"
   },
   "source": [
    "### The Quantum Kernel Estimator (QKE)"
   ]
  },
  {
   "cell_type": "markdown",
   "metadata": {
    "id": "9m5mAx00Ne_L"
   },
   "source": [
    "The Quantum Kernel Estimator (QKE) algorithm \\[[6](https://www.nature.com/articles/s41586-019-0980-2)] introduced by IBM in 2019 is the optimal solution for an infinite-depth $W(\\theta)$ Variational Quantum Classifier (VQC). But what is a kernel? A `kernel function` is a dissimilarity measure (a.k.a distance measure) used to evaluate the distance between two distinct data points (represented by vectors) by computing the inner product of the feature map. In this way, the kernel function implicitly encodes the feature map without ever computing the feature vectors nor evaluating their inner product individually: a process known as the `kernel trick`.\n",
    "\n",
    "The quantum kernel function $K(\\vec{x}_i, \\vec{x}_j)$ is the `Hilbert-Schmidt inner product` that computes the distance (dissimilarity measure) between two quantum states (or density matrices). Consider a classical dataset $\\mathcal{X} =\\{\\vec{x}_i=(x_1, \\cdots, x_N) \\in \\mathbb{R}^N\\}|_{i=1}^M$, and a quantum feature map\n",
    "\n",
    "$$\\Phi(\\vec{x}_i): \\vec{x}_i \\in \\mathcal{X} \\rightarrow |\\Phi(\\vec{x}_i)\\rangle\\langle\\Phi(\\vec{x}_i)| \\in \\mathcal{H}.$$ \n",
    "\n",
    "Given two data samples $\\vec{x}_i$ and $\\vec{x}_j \\in \\mathcal{X}$, the $ij$-th entry of the quantum kernel function reads:\n",
    "\n",
    "\\begin{align}\n",
    "K_{ij}(\\vec{x}_i, \\vec{x}_j) \\doteq \\langle \\Phi(\\vec{x}_i), \\Phi(\\vec{x}_j)\\rangle_{HS} &= \\Tr(\\Phi^{\\dagger}(x_i)\\Phi(x_j)) \\\\\n",
    "&= \\Tr\\Big[|\\Phi(\\vec{x}_i)\\rangle \\color{orange}{\\langle \\Phi(\\vec{x}_i)| \\cdot |\\Phi(\\vec{x}_j)\\rangle} \\langle \\Phi(\\vec{x}_j)|\\Big] \\\\\n",
    "&= \\color{orange}{\\langle\\Phi(\\vec{x}_i)|\\Phi(\\vec{x}_j)\\rangle} \\Tr(|\\Phi(\\vec{x}_i)\\rangle\\langle \\Phi(\\vec{x}_j)|) \\\\\n",
    "&= \\langle\\Phi(\\vec{x}_i)|\\Phi(\\vec{x}_j)\\rangle \\langle \\Phi(\\vec{x}_j)|\\Phi(\\vec{x}_i)\\rangle \\\\\n",
    "&= \\langle\\Phi(\\vec{x}_i)|\\Phi(\\vec{x}_j)\\rangle \\langle \\Phi(\\vec{x}_i)|\\Phi(\\vec{x}_j)\\rangle^* \\\\\n",
    "&= |\\langle\\Phi(\\vec{x}_i)|\\Phi(\\vec{x}_j)\\rangle|^2.\n",
    "\\end{align}\n",
    "\n",
    "Where it was used the following identities for $\\lambda \\in \\mathbb{C}, A \\in M^{m,n}$, and $|a\\rangle, |b\\rangle \\in \\mathbb{C}^d$:\n",
    "\n",
    "- $\\Tr(\\lambda A) = \\lambda\\Tr(A)$.\n",
    "- $\\Tr(|a\\rangle \\langle b|) = \\langle b|a\\rangle$, the trace of the outer product is the inner product.\n",
    "- $\\langle a|b \\rangle^* = \\langle b|a \\rangle$.\n",
    "- $\\langle a|b \\rangle \\langle a|b \\rangle^* = |\\langle a|b \\rangle|^2$.\n",
    "\n"
   ]
  },
  {
   "cell_type": "markdown",
   "metadata": {
    "id": "f-7j8tsP_vOA"
   },
   "source": [
    "Consider the following quantum kernel estimation circuit:\n",
    "\n",
    "![image.png](data:image/png;base64,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)\n",
    "\n",
    "© Image Credits: [[11]](https://pennylane.ai/qml/demos/tutorial_kernel_based_training.html)."
   ]
  },
  {
   "cell_type": "markdown",
   "metadata": {
    "id": "6JwN9tGP5W88"
   },
   "source": [
    "Let us define $$U_{\\phi}(x) \\equiv S(x')^{\\dagger}S(x).$$\n",
    "\n",
    "With $|\\Phi(x)\\rangle = U_{\\phi}(x) |0^{\\otimes n}\\rangle$, one then has:\n",
    "\n",
    "\\begin{eqnarray}\n",
    "\\langle\\Phi(x)| = (|\\Phi(x)\\rangle)^{\\dagger} = (U_{\\phi}(x) |0^{\\otimes n}\\rangle)^{\\dagger} = (|0^{\\otimes n}\\rangle)^{\\dagger} (U_{\\phi}(x))^{\\dagger} = \\langle 0^{\\otimes n}| U_{\\phi}^{\\dagger}(x).\n",
    "\\end{eqnarray}\n",
    "\n",
    "And the $ij$-th entry of the quantum kernel can be obtained through a projective measurement onto the computational basis: \n",
    "\n",
    "\\begin{align}\n",
    "\\langle 0^{\\otimes n}| S(x)^{\\dagger}S(x') |0^{\\otimes n} \\rangle\\langle 0^{\\otimes n}| S(x')^{\\dagger}S(x) |0^{\\otimes n}\\rangle &= (\\langle 0^{\\otimes n}| S(x')^{\\dagger}S(x) |0^{\\otimes n}\\rangle)^*(\\langle 0^{\\otimes n}| S(x')^{\\dagger}S(x) |0^{\\otimes n}\\rangle)\\\\\n",
    "&= |\\langle 0^{\\otimes n}|S(x')^{\\dagger}S(x)|0^{\\otimes n}\\rangle|^2 \\\\\n",
    "&= |\\langle\\Phi(x')|\\Phi(x)\\rangle|^2 \\\\\n",
    "&= K_{ij}(x, x'),\n",
    "\\end{align}\n",
    "\n",
    "where $|0^{\\otimes n} \\rangle\\langle 0^{\\otimes n}|$ is the projector operator of $n$ qubits onto the initial state $|0\\rangle$.\n",
    "\n",
    "One can note that the $ij$-th entry of the quantum kernel is just the probability of measuring the state $|0^{\\otimes n}\\rangle$ (**see appendix**):\n",
    "\n",
    "\\begin{align}\n",
    "\\langle \\Phi(x) | P^{\\dagger}_{o_j} P_{o_j} | \\Phi(x) \\rangle\n",
    "&= \\langle \\Phi(x) |0^{\\otimes n} \\rangle\\langle 0^{\\otimes n}|\\Phi(x) \\rangle \\\\ \n",
    "&= \\langle \\Phi(x) |0^{\\otimes n}\\rangle \\langle \\Phi(x)| 0^{\\otimes n} \\rangle^*\\\\\n",
    "&= |\\langle \\Phi(x) |0^{\\otimes n} \\rangle|^2\\\\\n",
    "&=|\\langle 0^{\\otimes n}| \\Phi(x) \\rangle|^2\\\\\n",
    "&=|\\langle 0^{\\otimes n} | \\hat{U}(x) |0^{\\otimes n}\\rangle|^2 \\\\\n",
    "&= |\\langle 0^{\\otimes n}|S(x')^{\\dagger}S(x)|0^{\\otimes n}\\rangle|^2 \\\\\n",
    "&= |\\langle\\Phi(x)|\\Phi(x')\\rangle|^2 \\\\\n",
    "&= K_{ij}(x, x').\n",
    "\\end{align}"
   ]
  },
  {
   "cell_type": "markdown",
   "metadata": {
    "id": "Uvc1K7ZfZaCL"
   },
   "source": [
    "\n",
    "\n",
    "**Algorithm outline, adapted from [[7](#)]:**\n",
    "\n",
    "For all $i,j$ in the training set:\n",
    "1. Prepare the state according to $S(\\vec{x}_i)^{\\dagger}S(\\vec{x}_j)$. This operation is symmetric ($i$ can be replaced by $j$).\n",
    "2. Measure the probability $K_{ij}(\\vec{x}_i, \\vec{x}_j)$. A number of $N$ data points requires $N^2$ different quantum circuits.\n",
    "3. With all the kernel entries evaluated, solve the classical convex optimization problem in the dual form $L_D(\\alpha)$, where $\\{\\alpha_i\\}$ is the set of lagrange multipliers for each training data point and $\\{y_i\\}$ is the set of labels:\n",
    "$$\\max_{\\alpha} L_D(\\alpha) \\sum_{i \\in T}\\alpha_i - \\frac{1}{2}\\sum_{i,j \\in T} y_i y_j \\alpha_i \\alpha_j \\ \\ \\underbrace{\\phi(x_i)^{\\T}\\phi(x_j)}_{K_{ij}}.$$\n",
    "4. Classify the input data according to the following decision rule: \n",
    "\n",
    "$$\\text{label}(s) \\in \\{+1, -1\\} = \\text{sign}\\Big(\\sum_{i\\in N_s} \\alpha_i K(\\lambda_i, s)+b\\Big).$$\n",
    "\n",
    "In this hybrid quantum-classical algorithm, the quantum computer computes the Kernel, while the classical computer solves the optimization problem of finding the lagrange multipliers."
   ]
  },
  {
   "cell_type": "markdown",
   "metadata": {
    "id": "POn9PzaG96fG"
   },
   "source": [
    "### The Quantum Kernel Alignment (QKA)"
   ]
  },
  {
   "cell_type": "markdown",
   "metadata": {
    "id": "rKrcx7Wku7yr"
   },
   "source": [
    "Quantum kernel aligment [[8](#8)] leverages the symmetry in the dataset by parameterizing a fiducial state with a parameter $\\lambda$ to be optimized in the classical computer. The following image depicts the quantum kernel alignment circuit [[8](#8)], where $x$ and $\\tilde{x}$ are two distinct samples (data points) often referred as $\\vec{x}_i$ and $\\vec{x}_j \\in \\mathcal{X}$:"
   ]
  },
  {
   "cell_type": "markdown",
   "metadata": {
    "id": "Zx6BLupk5029"
   },
   "source": [
    "![kernel_align.png](data:image/png;base64,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)\n",
    "\n",
    "© Image Credits: [[8]](#). "
   ]
  },
  {
   "cell_type": "markdown",
   "metadata": {
    "id": "xPmpjabUsVn4"
   },
   "source": [
    "Denoting the fiducial reference state by $|\\psi(\\lambda)\\rangle = V(\\lambda) |0^{\\otimes n}\\rangle$, one then has:\n",
    "\n",
    "\\begin{eqnarray}\n",
    "\\langle\\psi(\\lambda)| = |\\psi(\\lambda)\\rangle^{\\dagger} = (V(\\lambda) |0^{\\otimes n}\\rangle)^{\\dagger} = (|0^{\\otimes n}\\rangle)^{\\dagger} (V(\\lambda))^{\\dagger} = \\langle 0^{\\otimes n}| V^{\\dagger}(\\lambda).\n",
    "\\end{eqnarray}\n",
    "\n",
    "And the feature state reads:\n",
    "\n",
    "\\begin{eqnarray}\n",
    "\\Phi(\\vec{x}_i) = D_{\\Phi}(\\vec{x}_i)|\\psi(\\lambda)\\rangle \\langle\\psi(\\lambda)|D^{\\dagger}_{\\Phi}(\\vec{x}_i) = D_{\\Phi}(\\vec{x}_i)V(\\lambda) |0^{\\otimes n}\\rangle \\langle 0^{\\otimes n}| V^{\\dagger}(\\lambda)|D^{\\dagger}_{\\Phi}(\\vec{x}_i)\n",
    "\\end{eqnarray}\n",
    "\n",
    "\n",
    "\n",
    "In the QKA setting, the $ij$-th entry of the quantum kernel function in the explicit form is computed in the same way as the QKE, by taking the Hilbert-Schmidt inner product of two quantum feature states parameterized by distinct data points $\\vec{x}_i$ and $\\vec{x}_j$ from a dataset $\\mathcal{X}$:\n",
    "\n",
    "\\begin{align}\n",
    "K_{ij}(\\vec{x}_i, \\vec{x}_j) = |\\langle\\Phi(\\vec{x}_i)|\\Phi(\\vec{x}_j)\\rangle|^2 &= |\\langle 0^{\\otimes n}|U^{\\dagger}_{\\Phi}(\\vec{x}_i)U_{\\Phi}(\\vec{x}_j)|0^{\\otimes n}\\rangle|^2\\\\\n",
    "&=\\underbrace{|\\langle0^{\\otimes n}|V^{\\dagger}(\\lambda)}_{\\text{fiducial state}} \\underbrace{D^{\\dagger}_{\\Phi}(\\vec{x}_i)D_{\\Phi}(\\vec{x}_j)}_{\\text{feature map}}\\underbrace{V(\\lambda)|0^{\\otimes n}\\rangle}_{\\text{fiducial state}}|^2.\n",
    "\\end{align}\n",
    "\n",
    "Note that $V(\\lambda)$ is the unitary representation for the fiducial state containing the entangler gates, and $D_{\\Phi}(\\vec{x}_i)$ is the unitary representation of the quantum feature map for data encoding."
   ]
  },
  {
   "cell_type": "markdown",
   "metadata": {
    "id": "KC7H60fyNdxQ"
   },
   "source": [
    "The classical computer then solves the min-max problem (bounding the generalization error):\n",
    "\n",
    "$$\\epsilon \\le \\mathcal{O}(\\min_{\\lambda}\\max_{\\alpha} F(\\alpha, \\lambda)/m),$$\n",
    "\n",
    "where the Wolfe dual is\n",
    "$$F(\\alpha)=\\sum_{i=1}^m\\alpha_i - \\frac{1}{2} \\underbrace{\\sum_{i,j=1}^m y_i y_j \\alpha_i \\alpha_j \\ \\ \\overbrace{\\phi(x_i)^{\\T}\\phi(x_j)}^{K_{ij}}}_{\\text{weighted kernel alignment}}.$$\n",
    "\n",
    "Legend:\n",
    "\n",
    "- $\\alpha$ denotes the Lagrande multipliers.\n",
    "- $y_i,y_j$ denote the labels.\n",
    "- $x_i, x_j$ denote the data samples.\n",
    "- $m$ denotes the number of training samples.\n",
    "- $K_{ij}$ denotes the kernel function."
   ]
  },
  {
   "cell_type": "markdown",
   "metadata": {
    "id": "kCZOo0CZAR-E"
   },
   "source": [
    "## Cherry picking a Quantum Kernel<a name=\"kernel\" />\n"
   ]
  },
  {
   "cell_type": "markdown",
   "metadata": {
    "id": "EzqR5AuY0GS5"
   },
   "source": [
    "Among the drawbacks of using a `classical kernel` is the increase of computational runtime as the complexity of the dataset increases, such as in the case of complex time series data. On the other hand, quantum circuits provide the advantage of mapping the classical input data to a higher dimensional space by simulating more complex kernels or `quantum kernels` that are, in principle, harder to simulate in a classical computer. It is said that quantum kernels outperform their classical counterpart when they cannot be efficiently simulated on classical computers: a `necessary but not sufficient` condition for computational advantage. \n",
    "\n",
    "Here, we outline three main approaches for quantum kernel design, adapted from \\[[9](#9)]:\n",
    "\n",
    "1. The choice of the quantum kernel can be either a known fixed (non-trainable) or parameterized (trainable/optimizable) variational quantum circuit ansatz in the literature that is known to be classically hard to simulate, or even a random variational quantum circuit to be adaptively optimized according to a cost function. Example: forrelation kernel.\n",
    "\n",
    "2. The second approach consists of choosing a simple (classically easy to simulate) parameterized quantum circuit to be optimized adding complex entangled gates to increase its computational complexity with respect to a classical computer. Example: Gaussian kernel.\n",
    "\n",
    "3. The third approach involves designing a kernel based/tailored on/to the structre of the data, and then optmizing it (e.g., kernel alignment). Example: the DLOG kernel based off of the discrete logarithm problem exploit the group structure of the data to provide a superpolynomial speed up over classical kernels [[10](#10)]."
   ]
  },
  {
   "cell_type": "markdown",
   "metadata": {
    "id": "_ZdKsjIdM_35"
   },
   "source": [
    "# <font color='Blue'>Appendix</font><a name=\"Appendix\" />"
   ]
  },
  {
   "cell_type": "markdown",
   "metadata": {
    "id": "oZdOGakPfbKm"
   },
   "source": [
    "## Measurement Postulate in Quantum Mechanics"
   ]
  },
  {
   "cell_type": "markdown",
   "metadata": {
    "id": "2CNDPS6ygvDa"
   },
   "source": [
    "### Probability"
   ]
  },
  {
   "cell_type": "markdown",
   "metadata": {
    "id": "HmiOEgPwNBP7"
   },
   "source": [
    "\n",
    "Recall that a physical observable in quantum mechanics is represented by a Hermitian ($\\hat{\\mathcal{O}}=\\hat{\\mathcal{O}}^{\\dagger}$) and, therefore, Normal ($ \\hat{\\mathcal{O}}\\hat{\\mathcal{O}}^{\\dagger}=\\hat{\\mathcal{O}}^{\\dagger}\\hat{\\mathcal{O}}$) matrix with real eigenvalues and a diagonal representation:\n",
    "\n",
    "\\begin{eqnarray}\n",
    "\\hat{\\mathcal{O}} = \\sum_{j=1}^{d=2^n} o_j P_{o_j}= \\sum_{j=1}^{d=2^n} o_j |o_j\\rangle \\langle o_j|.\n",
    "\\end{eqnarray}\n",
    "\n",
    "Where $P_{o_j}=|o_j\\rangle \\langle o_j|$ is the projector operator onto the eigenspace of the observable $\\hat{\\mathcal{O}}$ with a $d$-dimensional orthonormal basis set $\\{|o_j \\rangle\\}_{j=1}^d$ $\\Big(\\langle o_j|o_k\\rangle=\\delta_{jk}\\Big)$ of eigenvectors $|o_j \\rangle$ with eigenvalues $o_j$.\n",
    "\n",
    "Suppose the state of a quantum system is prepared in the basis of the observable $\\hat{\\mathcal{O}}$ one wants to measure, i.e, $|\\psi\\rangle \\doteq \\sum_{j=1}^d c_j|o_j\\rangle$. A projective measurement (a.k.a von Neumann measurement) entails the following conditional probability for obtaining the eigenvalue $o_j$ of $\\hat{\\mathcal{O}}$:\n",
    "\n",
    "\\begin{eqnarray} \n",
    "Pr(o_j|\\psi\\rangle)&=&\\langle \\psi | P^{\\dagger}_{o_j} P_{o_j} |\\psi \\rangle \\\\ \n",
    "&=& \\langle \\psi | P_{o_j}^2 |\\psi \\rangle\\\\\n",
    "&=& \\langle \\psi| (|o_j\\rangle \\langle o_j|o_k\\rangle \\langle o_k|)| \\psi \\rangle\\\\\n",
    "&=&\\delta_{jk}\\langle\\psi|o_j\\rangle \\langle o_k |\\psi\\rangle \\\\ \n",
    "&=& \\langle\\psi|o_j\\rangle \\langle o_j |\\psi\\rangle \\\\ \n",
    "&=& \\langle \\psi |o_j\\rangle \\langle \\psi| o_j \\rangle^*\\\\\n",
    "&=& |\\langle \\psi|o_j \\rangle|^2=|\\langle o_j|\\psi \\rangle|^2\\\\\n",
    "&=& \\left|\\langle o_j|\\sum_{k=1}^{d=2^n} c_k |o_k\\rangle\\right|^2\\\\\n",
    "&=&  \\left|\\sum_{k=1}^{d=2^n} c_k \\langle o_j|o_k\\rangle\\right|^2\\\\\n",
    "&=&\\left|\\sum_{k=1}^{d=2^n} c_k \\delta_{jk} \\right|^2 = |c_j|^2.\n",
    "\\end{eqnarray} \n",
    "\n",
    "This result is also known as Born's rule:\n",
    "\n",
    "\\begin{eqnarray}\n",
    "Pr(o_j|\\psi\\rangle) \\doteq |\\langle o_j |\\psi \\rangle|^2 = |\\langle \\psi |o_j \\rangle|^2= |c_j|^2.\n",
    "\\end{eqnarray}\n",
    "\n",
    "One can note that $Pr(o_j|\\psi\\rangle)=1$ if and only if $|o_j\\rangle=|\\psi\\rangle$, which is in agreement with the normalization condition:\n",
    "\n",
    "$$\\langle \\psi |\\psi\\rangle=\\Bigg(\\sum_{j=1}^{d=2^n}c_j|o_j\\rangle \\Bigg)^{\\dagger}\\Bigg(\\sum_{k=1}^{d=2^n} c_k |o_k\\rangle \\Bigg)=\\sum_{j,k=1}^{d=2^n} c_j^* c_k \\langle o_j|o_k\\rangle= \\sum_{j,k=1}^{d=2^n} c_j^* c_k \\delta_{jk} = \\sum_{j=1}^{d=2^n}|c_j|^2=\\sum_{j=1}^{d=2^n}Pr(o_j|\\psi\\rangle)=1.$$\n",
    "\n",
    "<br>\n",
    "\n",
    "If the system has evolved from the initial state $|\\psi(0)\\rangle$ to the final state $|\\psi(t)\\rangle$, then:\n",
    "\n",
    "\\begin{eqnarray}\n",
    "Pr(o_j|\\psi_t\\rangle) &=& |\\langle o_j | \\hat{U}(t) |\\psi(0)\\rangle|^2 \\\\\n",
    "&=& |\\langle o_j |\\psi(t)\\rangle|^2.\n",
    "\\end{eqnarray}\n",
    "\n",
    "**Remark**\n",
    "\n",
    "If the state $|\\psi\\rangle$ of the quantum system is an eigenstate of the observable being measured, the measurement outcome is `deterministic` and Einstein is right (god does not play dice). However, when $|\\psi\\rangle$ is not an eigenstate of the observable, then the measurement outcome is `probabilistic` and Einstein is wrong. The latter is a consequence of Heisenberg's uncertainty principle for conjugate observables that do not commute, i.e, $[\\hat{A},\\hat{B}] \\ne \\mathbb{O}$.\n",
    "\n",
    "Examples:\n",
    "\n",
    "- Consider a quantum system in the state $|\\psi\\rangle=|0\\rangle$.\n",
    "  - A measurement in the $\\hat{Z}$ basis is deterministic: $Pr(|0\\rangle)=\\langle 0|\\psi \\rangle=|\\langle 0|0 \\rangle|^2=1=100\\%$.\n",
    "  - A measurement in the $\\hat{X}$ basis is probabilistic: $Pr(|+\\rangle)=\\langle +|\\psi \\rangle=|\\langle 0|H|0 \\rangle|^2=1/2=50\\%$.\n",
    "\n",
    "- Consider a quantum system in the state $|\\psi\\rangle=|+\\rangle = \\frac{1}{\\sqrt{2}}(|0\\rangle + |1\\rangle)$.\n",
    "  - A measurement in the $\\hat{Z}$ basis is probabilistic: $Pr(|0\\rangle)=\\langle 0|\\psi \\rangle=|\\langle 0|+ \\rangle|^2=1/2=50\\%$.\n",
    "  - A measurement in the $\\hat{X}$ basis is deterministic: $Pr(|+\\rangle)=\\langle +|\\psi \\rangle=|\\langle +|+ \\rangle|^2=1=100\\%$."
   ]
  },
  {
   "cell_type": "markdown",
   "metadata": {
    "id": "6aQrjwxygxgt"
   },
   "source": [
    "### Expectation value\n"
   ]
  },
  {
   "cell_type": "markdown",
   "metadata": {
    "id": "plQ_ChCnfThv"
   },
   "source": [
    "\n",
    "The expected value of an observable $\\hat{\\mathcal{O}} \\in \\mathcal{H}$ in a quantum system prepared in the state $|\\psi\\rangle$ follows the measurement postulate: \n",
    "\n",
    "\\begin{align}\n",
    "\\langle \\hat{\\mathcal{O}}\\rangle &= \\sum_{j=1}^{d=2^n} o_j Pr(o_j|\\psi \\rangle)\\\\\n",
    "&=\\sum_{j=1}^{d=2^n} o_j|\\langle o_j |\\psi \\rangle|^2 \\\\\n",
    "&=\\sum_{j=1}^{d=2^n} o_j  \\langle \\psi |o_j \\rangle \\langle \\psi |o_j \\rangle^* \\\\\n",
    "&=\\sum_{j=1}^{d=2^n} o_j  \\langle \\psi |o_j \\rangle \\langle o_j|\\psi \\rangle \\\\\n",
    "&= \\langle \\psi | \\left(\\sum_{j=1}^{d=2^n} o_j |o_j \\rangle \\langle o_j| \\right) |\\psi \\rangle\\\\\n",
    "&= \\langle \\psi | \\left(\\sum_{j=1}^{d=2^n} o_j P_{o_j} \\right) |\\psi \\rangle\\\\\n",
    "&=\\langle \\psi |\\hat{\\mathcal{O}}|\\psi\\rangle = \\langle 0^{\\otimes n}|\\hat{U}^{\\dagger} \\hat{\\mathcal{O}} \\hat{U}|0^{\\otimes n}\\rangle \\in \\mathbb{R}.\n",
    "\\end{align}\n",
    "\n",
    "Where\n",
    "\n",
    "\\begin{align}\n",
    "|\\psi \\rangle &= \\hat{U} |0^{\\otimes n} \\rangle, \\\\\n",
    "\\langle \\psi | &= |\\psi \\rangle^{\\dagger}= (\\hat{U} |0^{\\otimes n} \\rangle)^{\\dagger} = |0^{\\otimes n} \\rangle^{\\dagger}\\hat{U}^{\\dagger} = \\langle 0^{\\otimes n}|\\hat{U}^{\\dagger},\n",
    "\\end{align}\n",
    "\n",
    "and $\\hat{U}$ denotes the unitary evolution operator, i.e, the quantum circuit that evolves the initial state $|0^{\\otimes n}\\rangle$ to the final state $|\\psi\\rangle$."
   ]
  },
  {
   "cell_type": "markdown",
   "metadata": {
    "id": "-2SuElwcgzHY"
   },
   "source": [
    "## Pauli decomposition\n"
   ]
  },
  {
   "cell_type": "markdown",
   "metadata": {
    "id": "_eQDjGtpfnt4"
   },
   "source": [
    "Since measurements in the quantum computer are performed in the computational basis a.k.a Pauli-Z basis, when the quantum observable $\\hat{\\mathcal{O}}$ is not diagonalized in the computational basis, a change of basis circuit is necessary to rotate from the eigenbasis of the observable into the computational basis:\n",
    "\n",
    "$$\\langle \\psi| \\hat{\\mathcal{O}} |\\psi\\rangle = \\langle 0^{\\otimes n}|\\hat{U}^{\\dagger}W^{\\dagger} \\hat{\\mathcal{O}} W\\hat{U}|0^{\\otimes n}\\rangle \\in \\mathbb{R},$$\n",
    "\n",
    "where $W$ denotes the change of basis circuit.\n",
    "\n",
    "However, finding the change of basis circuit for a general observable is not a trivial task. Therefore, it is useful to write the Hermitian observable into the Pauli basis, i.e, decompose it into a sum of Pauli observables:\n",
    "\n",
    "$$\\hat{\\mathcal{O}} = \\sum_{j=1}^{d=2^n} c_j P_j, \\ \\ \\ P_j \\in \\{I, X, Y, Z\\}^{\\otimes n}.$$\n",
    "\n",
    "\n",
    "With that, the new measurement becomes\n",
    "\n",
    "$$\\langle \\psi| \\hat{\\mathcal{O}} |\\psi\\rangle =\\langle \\psi| \\Big(\\sum_{j=1}^{d=2^n} c_j P_j \\Big) |\\psi\\rangle= \\sum_{j=1}^{d=2^n} c_j \\langle \\psi | P_j | \\psi \\rangle \\in \\mathbb{R}.$$"
   ]
  },
  {
   "cell_type": "markdown",
   "metadata": {
    "id": "cvzGHosQbSSH"
   },
   "source": [
    "# &nbsp; <a href=\"#\"><img valign=\"middle\" height=\"45px\" src=\"https://img.icons8.com/book\" width=\"45\" hspace=\"0px\" vspace=\"0px\"></a> References<a name=\"References\" />"
   ]
  },
  {
   "cell_type": "markdown",
   "metadata": {
    "id": "5ePgFnR-ezjU"
   },
   "source": [
    "\\[1] Deep Learning (Ian J. Goodfellow, Yoshua Bengio and Aaron Courville), MIT Press, 2016.\n",
    "\n",
    "\\[2] Nielsen MA, Chuang IL. 2010. Quantum Computation and Quantum Information. New York: [Cambridge Univ. Press.](https://doi.org/10.1017/CBO9780511976667) 10th Anniv. Ed.\n",
    "\n",
    "\\[3] Schuld, M., & Petruccione, F.: Supervised Learning with Quantum Computers (vol. 17). [Springer, Berlin (2018)](https://link.springer.com/book/10.1007/978-3-319-96424-9)\n",
    "\n",
    "\\[4] Cybenko, G. (1989), \"Approximations by superpositions of sigmoidal functions\". [Mathematics of Control, Signals, and Systems, 2(4), 303–314. DOI: 10.1007/BF02551274](https://link.springer.com/article/10.1007/BF02551274).\n",
    "\n",
    "\\[5] Schuld and Killoran, \"Quantum machine learning in feature Hilbert spaces\", [Physical Review Letters](https://doi.org/10.1103/PhysRevLett.122.040504).\n",
    "\n",
    "\\[6] Havlíček, V., Córcoles, A.D., Temme, K. et al. Supervised learning with quantum-enhanced feature spaces. [Nature 567, 209–212 (2019)](https://doi.org/10.1038/s41586-019-0980-2).\n",
    "\n",
    "\\[7] Bryce Fuller, \"Lecture 6.1 - From Variational Classifiers to Linear Classifiers\", [Qiskit Global Summer School 2021](https://www.youtube.com/watch?v=m6EzmYsEOiI).\n",
    "\n",
    "\\[8] J. R. Glick, T. P. Gujarati, A. D. Córcoles, Y. Kim, A. Kandala, J. M. Gambetta, K. Temme. Covariant quantum kernels for data with group structure [arXiv:2105.03406 (2021)](https://arxiv.org/abs/2105.03406).\n",
    "\n",
    "\\[9] Jen Glick, \"Lecture 7.1 - Quantum Kernels in Practice\", [Qiskit Global Summer School 2021](https://www.youtube.com/watch?v=LmQcSxgINis).\n",
    "\n",
    "\\[10] Y. Liu, S. Arunachalam, and K. Temme, A rigorous and robust quantum speed-up in supervised machine learning. [arXiv:2010.02174](https://arxiv.org/abs/2010.02174) (2020).\n",
    "\n",
    "\\[11] [Kernel-based training of quantum models with scikit-learn](https://pennylane.ai/qml/demos/tutorial_kernel_based_training.html)."
   ]
  }
 ],
 "metadata": {
  "colab": {
   "collapsed_sections": [
    "ZWPkDjddGxGH",
    "mMma7Bd1g9Bj",
    "_GDi1bB97XWW",
    "EJNXZEmPfTqJ",
    "Iz9PijN2AYCs",
    "HaDwHHXMdra-",
    "QNmJTfvzUpPu",
    "UBGSaipbUAQK",
    "wv1Uq7SaS3aV",
    "kyF09cgQ6v1i",
    "AWqiyV8AAWJm",
    "POn9PzaG96fG",
    "kCZOo0CZAR-E",
    "_ZdKsjIdM_35",
    "oZdOGakPfbKm",
    "2CNDPS6ygvDa",
    "6aQrjwxygxgt",
    "-2SuElwcgzHY",
    "cvzGHosQbSSH"
   ],
   "provenance": []
  },
  "kernelspec": {
   "display_name": "Python 3 (ipykernel)",
   "language": "python",
   "name": "python3"
  },
  "language_info": {
   "codemirror_mode": {
    "name": "ipython",
    "version": 3
   },
   "file_extension": ".py",
   "mimetype": "text/x-python",
   "name": "python",
   "nbconvert_exporter": "python",
   "pygments_lexer": "ipython3",
   "version": "3.8.8"
  }
 },
 "nbformat": 4,
 "nbformat_minor": 1
}
